{
 "cells": [
  {
   "cell_type": "code",
   "execution_count": null,
   "metadata": {},
   "outputs": [],
   "source": [
    "#| hide\n",
    "from wirewalk.core import *"
   ]
  },
  {
   "cell_type": "markdown",
   "metadata": {},
   "source": [
    "# wirewalk\n",
    "\n",
    "> Python3 Implementation of the WireWalk Algorithm by [Tesfa Asmara, et. al.](http://tesfaasmara.com) "
   ]
  },
  {
   "cell_type": "markdown",
   "metadata": {},
   "source": [
    "# References\n",
    "\n",
    "[Wire Before You Walk. T. Asmara, D. Bhaskar, I. Adelstein, S. Krishnaswamy, M. Perlmutter. In proceedings for Asilomar 2023.](http://tesfaasmara.com/wirewalk.pdf)\n",
    "\n",
    "# Asilomar 2023 Proceedings\n",
    "\n",
    "To reproduce the results, please see the instructions in the [Asilomar_2023.py](https://github.com/TesfaAsmara/wirewalk/blob/main/Asilomar_2023.py) file."
   ]
  },
  {
   "cell_type": "markdown",
   "metadata": {},
   "source": [
    "## Install"
   ]
  },
  {
   "cell_type": "markdown",
   "metadata": {},
   "source": [
    "```sh\n",
    "pip install wirewalk\n",
    "```\n",
    "\n",
    "### Prerequisites\n",
    "\n",
    "You will need\n",
    "\n",
    "- Python3\n",
    "- [Networkx](https://networkx.org/documentation/stable/install.html)\n",
    "- [Numpy](https://numpy.org/install/)\n",
    "- [Gensim](https://pypi.org/project/gensim/)\n",
    "- [editdistance](https://pypi.org/project/editdistance/)\n",
    "\n",
    "I highly recommend installing an [Anaconda](https://www.anaconda.com/distribution/#download-section)\n",
    "environment. Future versions of WireWalk will be available on PyPI and\n",
    "conda."
   ]
  },
  {
   "cell_type": "markdown",
   "metadata": {},
   "source": [
    "## How to use\n",
    "\n",
    "```python\n",
    "import networkx as nx\n",
    "from wirewalk.core import WireWalk, jaccard_coefficient, max_flow\n",
    "\n",
    "# Create a graph\n",
    "graph = nx.fast_gnp_random_graph(n=10, p=0.5)\n",
    "\n",
    "# Instantiate a WireWalk object\n",
    "wireWalk = WireWalk(graph, dimensions = 128, window = 10, walk_length = 80, num_walks = 10, workers = 1)\n",
    "\n",
    "# Compute transition probabilities using jaccard coefficient transformation, generate walks, and embed nodes\n",
    "model = wireWalk.fit(jaccard_coefficient)\n",
    "\n",
    "# **MAX_FLOW and MIN_COST_MAX_FLOW ONLY WORK WITH GIVEN capacity**\n",
    "# If weight exists, then  \n",
    "# nx.set_edge_attributes(graph, nx.get_edge_attributes(graph, \"weight\"), \"capacity\").\n",
    "# Otherwise,\n",
    "nx.set_edge_attributes(graph, 1, \"capacity\")\n",
    "model = wireWalk.fit(max_flow)\n",
    "```"
   ]
  }
 ],
 "metadata": {
  "kernelspec": {
   "display_name": "Python 3.11.3 ('metricWalkEnv')",
   "language": "python",
   "name": "python3"
  }
 },
 "nbformat": 4,
 "nbformat_minor": 4
}
